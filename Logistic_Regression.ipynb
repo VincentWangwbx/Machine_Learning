{
 "cells": [
  {
   "cell_type": "markdown",
   "metadata": {},
   "source": [
    "# Logistic Regression"
   ]
  },
  {
   "cell_type": "code",
   "execution_count": 1,
   "metadata": {},
   "outputs": [],
   "source": [
    "import matplotlib.pyplot as plt\n",
    "import numpy as np\n",
    "import random"
   ]
  },
  {
   "cell_type": "markdown",
   "metadata": {},
   "source": [
    "## 1. Sigmoid Function and Gradient Descent\n",
    "### 1.1 Sigmoid function:\n",
    "$$\\sigma(z)=\\frac{1}{1+e^{-z}}$$\n",
    "### 1.2 Gradient Descent\n",
    "The input $z$ could be given as:\n",
    "$$\\begin{align*}\n",
    "z &= w_0x_0 + w_1x_1 +w_2x_2 + \\cdots + w_nx_n\\\\\n",
    "&= \\mathbf{w}^T \\mathbf{x}\n",
    "\\end{align*}$$\n",
    "By using gradient descent, we update $\\mathbf{w}$ by:\n",
    "$$\\mathbf{w} := \\mathbf{w} - \\alpha \\nabla_{\\mathbf{w}}f(\\mathbf{w})$$"
   ]
  },
  {
   "cell_type": "code",
   "execution_count": 2,
   "metadata": {},
   "outputs": [
    {
     "data": {
      "text/plain": [
       "Text(0, 0.5, 'Sigmoid(z)')"
      ]
     },
     "execution_count": 2,
     "metadata": {},
     "output_type": "execute_result"
    },
    {
     "data": {
      "image/png": "[encoded data removed]",
      "text/plain": [
       "<Figure size 432x288 with 1 Axes>"
      ]
     },
     "metadata": {
      "needs_background": "light"
     },
     "output_type": "display_data"
    }
   ],
   "source": [
    "def sigmoid(z):\n",
    "    f = 1/(1+np.exp(-z))\n",
    "    return f\n",
    "\n",
    "z = np.arange(-10,10)\n",
    "s = sigmoid(z)\n",
    "fig,ax = plt.subplots()\n",
    "ax.plot(z,s)\n",
    "ax.set_xlabel('z')\n",
    "ax.set_ylabel('Sigmoid(z)')"
   ]
  },
  {
   "cell_type": "markdown",
   "metadata": {},
   "source": [
    "## 2. Implementation\n",
    "### 2.1 Gradient Descent"
   ]
  },
  {
   "cell_type": "code",
   "execution_count": 3,
   "metadata": {},
   "outputs": [],
   "source": [
    "def loaddata():\n",
    "    data = []\n",
    "    labels = []\n",
    "    path = 'TestSet.txt'\n",
    "    with open(path) as f:\n",
    "        content = f.readlines()\n",
    "        for line in content:\n",
    "            line = line.strip().split()\n",
    "            data.append([1.0, float(line[0]), float(line[1])])\n",
    "            labels.append(float(line[2]))\n",
    "    data = np.array(data)\n",
    "    labels = np.array(labels).reshape((len(labels),1))\n",
    "    return data, labels\n",
    "\n",
    "def gradient_descent(data, labels, alpha=0.001, max_iteration=500):\n",
    "    m,n = data.shape\n",
    "    w = np.ones((n,1))\n",
    "    for iteration in range(max_iteration):\n",
    "        h = sigmoid(data.dot(w))\n",
    "        error = h - labels\n",
    "        w = w - alpha*data.T.dot(error)\n",
    "    return w"
   ]
  },
  {
   "cell_type": "code",
   "execution_count": 4,
   "metadata": {},
   "outputs": [
    {
     "data": {
      "text/plain": [
       "array([[ 4.12414349],\n",
       "       [ 0.48007329],\n",
       "       [-0.6168482 ]])"
      ]
     },
     "execution_count": 4,
     "metadata": {},
     "output_type": "execute_result"
    }
   ],
   "source": [
    "data, labels = loaddata()\n",
    "w = gradient_descent(data, labels)\n",
    "w"
   ]
  },
  {
   "cell_type": "markdown",
   "metadata": {},
   "source": [
    "### 2.2 Decision Boundary"
   ]
  },
  {
   "cell_type": "code",
   "execution_count": 5,
   "metadata": {},
   "outputs": [
    {
     "data": {
      "text/plain": [
       "array([ 1.      , -0.017612, 14.053064])"
      ]
     },
     "execution_count": 5,
     "metadata": {},
     "output_type": "execute_result"
    }
   ],
   "source": [
    "data[0]"
   ]
  },
  {
   "cell_type": "code",
   "execution_count": 6,
   "metadata": {},
   "outputs": [],
   "source": [
    "def plot_boundary(data, labels, w):\n",
    "    m,n = data.shape\n",
    "    xs1 = []; ys1 = []\n",
    "    xs2 = []; ys2 = []\n",
    "    for i in range(m):\n",
    "        if int(labels[i]) == 1:\n",
    "            xs1.append(data[i][1])\n",
    "            ys1.append(data[i][2])\n",
    "        else:\n",
    "            xs2.append(data[i][1])\n",
    "            ys2.append(data[i][2])\n",
    "    fig1, ax1 = plt.subplots()\n",
    "    ax1.scatter(xs1, ys1, c='r',marker='s')\n",
    "    ax1.scatter(xs2, ys2, c='g')\n",
    "    x = np.arange(-3,3,0.1)\n",
    "    y = (-w[0]-w[1]*x)/w[2]\n",
    "    ax1.plot(x,y)"
   ]
  },
  {
   "cell_type": "code",
   "execution_count": 7,
   "metadata": {},
   "outputs": [
    {
     "data": {
      "image/png": "[encoded data removed]",
      "text/plain": [
       "<Figure size 432x288 with 1 Axes>"
      ]
     },
     "metadata": {
      "needs_background": "light"
     },
     "output_type": "display_data"
    }
   ],
   "source": [
    "plot_boundary(data, labels, w)"
   ]
  },
  {
   "cell_type": "markdown",
   "metadata": {},
   "source": [
    "## 3. Stochastic Gradient Descent\n",
    "During each iteration of gradient descent implementation, the entire dataset must be traversed to update $\\mathbf{w}$. On the contract, SGD only requires one data point for update in each iteration, which makes it more economic and suitable for online learning."
   ]
  },
  {
   "cell_type": "code",
   "execution_count": 8,
   "metadata": {},
   "outputs": [],
   "source": [
    "def SGD(dataset, labels, alpha = 0.01):\n",
    "    m,n = dataset.shape\n",
    "    w = np.ones((n,1))\n",
    "    for i in range(m):\n",
    "        h = sigmoid(dataset[i].dot(w))\n",
    "        error = h - labels[i]       \n",
    "        w = w - (alpha*error*dataset[i].reshape((n,1)))\n",
    "    return w"
   ]
  },
  {
   "cell_type": "code",
   "execution_count": 9,
   "metadata": {},
   "outputs": [
    {
     "data": {
      "image/png": "[encoded data removed]",
      "text/plain": [
       "<Figure size 432x288 with 1 Axes>"
      ]
     },
     "metadata": {
      "needs_background": "light"
     },
     "output_type": "display_data"
    }
   ],
   "source": [
    "w = SGD(data, labels)\n",
    "plot_boundary(data, labels, w)"
   ]
  },
  {
   "cell_type": "markdown",
   "metadata": {},
   "source": [
    "It could be seen that the error rate of SGD is greater than GD, and this is because GD is repeatedly using the entire dataset. Also, $w$ undergoes fluctuation during learning.  \n",
    "\n",
    "To converge the final result faster and avoid fluctuation, a modified SDG could be applied by updating $\\alpha$ during iterations, and by repeatedly doing GSD over a dataset."
   ]
  },
  {
   "cell_type": "code",
   "execution_count": 10,
   "metadata": {},
   "outputs": [],
   "source": [
    "def modified_SDG(dataset, labels, iteration = 150):\n",
    "    m,n = dataset.shape\n",
    "    w = np.ones((n,1))\n",
    "    for i in range(iteration):\n",
    "        dataindex = list(range(m))\n",
    "        for j in range(m):\n",
    "            alpha = 4/(1+j+i)+0.01\n",
    "            index = int(random.uniform(0,len(dataindex)))\n",
    "            h = sigmoid(dataset[index].dot(w))\n",
    "            error = h - labels[index]\n",
    "            w = w - alpha*error*dataset[index].reshape((n,1))\n",
    "            del dataindex[index]\n",
    "    return w"
   ]
  },
  {
   "cell_type": "code",
   "execution_count": 11,
   "metadata": {},
   "outputs": [
    {
     "name": "stdout",
     "output_type": "stream",
     "text": [
      "[[13.75609513]\n",
      " [ 1.24220656]\n",
      " [-1.97082466]]\n"
     ]
    },
    {
     "data": {
      "image/png": "[encoded data removed]",
      "text/plain": [
       "<Figure size 432x288 with 1 Axes>"
      ]
     },
     "metadata": {
      "needs_background": "light"
     },
     "output_type": "display_data"
    }
   ],
   "source": [
    "data, labels = loaddata()\n",
    "new_w = modified_SDG(data, labels)\n",
    "print(new_w)\n",
    "plot_boundary(data, labels, new_w)"
   ]
  },
  {
   "cell_type": "markdown",
   "metadata": {},
   "source": [
    "## 4. Horse Colic\n",
    "In this example, we use data to predict if colic would lead to death of a horse. One of problems worth considering is that how to deal with missed data. In this case, replace it by $0$ would be a great idea, because a value of $0$ would lead to no influence on $w$, which makes sense since we do not have any information about it."
   ]
  },
  {
   "cell_type": "code",
   "execution_count": 12,
   "metadata": {},
   "outputs": [],
   "source": [
    "def classify(subject,w):\n",
    "    sig = sigmoid(subject.dot(w))\n",
    "    label = 1 if sig>0.5 else 0\n",
    "    return label\n",
    "\n",
    "def read_data(path):\n",
    "    dataset = []\n",
    "    labels = []\n",
    "    with open(path) as f:\n",
    "        content = f.readlines()\n",
    "        for line in content:\n",
    "            line = line.strip().split('\\t')\n",
    "            line = [float(word) for word in line]\n",
    "            dataset.append(line)\n",
    "            labels.append(line[-1])\n",
    "    dataset = np.array(dataset)\n",
    "    labels = np.array(labels).reshape((len(labels),1))\n",
    "    return dataset, labels"
   ]
  },
  {
   "cell_type": "code",
   "execution_count": 13,
   "metadata": {},
   "outputs": [],
   "source": [
    "trainingset, traininglabels = read_data('HorseColicTraining.txt')\n",
    "testset, testlabels = read_data('HorseColicTest.txt')"
   ]
  },
  {
   "cell_type": "code",
   "execution_count": 14,
   "metadata": {},
   "outputs": [],
   "source": [
    "def horse_holic():\n",
    "    w = modified_SDG(trainingset, traininglabels)\n",
    "    errorcount = 0\n",
    "    for i in range(testset.shape[0]):\n",
    "        subject = testset[i].reshape((1,len(testset[i])))\n",
    "        label = classify(subject, w)\n",
    "        if label != testlabels[i]:\n",
    "            errorcount += 1\n",
    "    rate = errorcount/testset.shape[0]\n",
    "    return rate"
   ]
  },
  {
   "cell_type": "code",
   "execution_count": 15,
   "metadata": {},
   "outputs": [
    {
     "name": "stdout",
     "output_type": "stream",
     "text": [
      "0.08955223880597014\n",
      "0.13432835820895522\n",
      "0.11940298507462686\n",
      "0.2835820895522388\n",
      "0.13432835820895522\n",
      "0.13432835820895522\n",
      "0.1044776119402985\n",
      "0.1044776119402985\n",
      "0.13432835820895522\n",
      "0.14925373134328357\n"
     ]
    }
   ],
   "source": [
    "for i in range(10):\n",
    "    print(horse_holic())"
   ]
  },
  {
   "cell_type": "markdown",
   "metadata": {},
   "source": [
    "## 5. Scikit-Learn\n",
    "### 5.1 Principles\n",
    "We have:\n",
    "$$\\hat{p} = h_{\\mathbf{\\theta}}(\\mathbf{x}) = \\sigma(\\mathbf{\\theta}^T\\mathbf{x})$$\n",
    "And the cost function for a single instance $\\mathbf{x}$ is:\n",
    "$$c(\\theta)=\n",
    "\\begin{cases}\n",
    "-\\log{(\\hat{p})}& y=1\\\\\n",
    "-\\log{(1-\\hat{p})}& y=0\n",
    "\\end{cases}$$\n",
    "This cost function will lead to huge cost result ($+\\infty$) when the prediction is more closer to the opposite side.  \n",
    "The cost function for the whole training set is the average of cost of each instance, *e.g.*\n",
    "$$J(\\theta) = -\\frac{1}{m}\\sum_{i=1}^m [y^{(i)}\\log{\\hat{p}^{(i)}}+(1-y^{(i)})\\log{(1-\\hat{p}^{(i)}})]$$\n",
    "\n",
    "### 5.2 Binary Classification of Iris-Virginica Type\n",
    "Build a classifier to detect the Iris-Virginica type based only on the petal width feature."
   ]
  },
  {
   "cell_type": "code",
   "execution_count": 16,
   "metadata": {},
   "outputs": [
    {
     "name": "stdout",
     "output_type": "stream",
     "text": [
      "['data', 'target', 'target_names', 'DESCR', 'feature_names', 'filename']\n"
     ]
    }
   ],
   "source": [
    "from sklearn import datasets\n",
    "\n",
    "iris = datasets.load_iris()\n",
    "print(list(iris.keys()))\n",
    "X = iris['data'][:,-1:] #petal width, must be a 2D array\n",
    "y = iris['target']\n",
    "y = (y==2).astype(np.int) #1 if class 2, else 0, astype true to 1, false to 0"
   ]
  },
  {
   "cell_type": "code",
   "execution_count": 17,
   "metadata": {},
   "outputs": [
    {
     "data": {
      "text/plain": [
       "array([[0.98554411, 0.01445589],\n",
       "       [0.98543168, 0.01456832],\n",
       "       [0.98531838, 0.01468162],\n",
       "       [0.98520422, 0.01479578],\n",
       "       [0.98508919, 0.01491081]])"
      ]
     },
     "execution_count": 17,
     "metadata": {},
     "output_type": "execute_result"
    }
   ],
   "source": [
    "from sklearn.linear_model import LogisticRegression\n",
    "\n",
    "logreg = LogisticRegression(solver = 'liblinear')\n",
    "logreg.fit(X,y)\n",
    "\n",
    "xs = np.linspace(0,3,1000).reshape(-1,1) #-1 := count/other\n",
    "y_proba = logreg.predict_proba(xs)\n",
    "y_proba[:5,:] #the first col is p of class 0, ..."
   ]
  },
  {
   "cell_type": "code",
   "execution_count": 18,
   "metadata": {},
   "outputs": [
    {
     "data": {
      "text/plain": [
       "<matplotlib.legend.Legend at 0x1c50edfbd88>"
      ]
     },
     "execution_count": 18,
     "metadata": {},
     "output_type": "execute_result"
    },
    {
     "data": {
      "image/png": "[encoded data removed]",
      "text/plain": [
       "<Figure size 432x288 with 1 Axes>"
      ]
     },
     "metadata": {
      "needs_background": "light"
     },
     "output_type": "display_data"
    }
   ],
   "source": [
    "fig2, ax2 = plt.subplots()\n",
    "ax2.plot(xs, y_proba[:,1], 'g-', label = 'Iris-Virginica')\n",
    "ax2.plot(xs, y_proba[:,0], 'b--', label = 'Not Iris-Virginica')\n",
    "ax2.set_xlabel('Petal Width (cm)')\n",
    "ax2.set_ylabel('Probability')\n",
    "ax2.legend()"
   ]
  },
  {
   "cell_type": "code",
   "execution_count": 19,
   "metadata": {},
   "outputs": [
    {
     "data": {
      "text/plain": [
       "array([1, 0])"
      ]
     },
     "execution_count": 19,
     "metadata": {},
     "output_type": "execute_result"
    }
   ],
   "source": [
    "#simply return the predicted class\n",
    "logreg.predict([[1.7], [1.5]]) "
   ]
  },
  {
   "cell_type": "markdown",
   "metadata": {},
   "source": [
    "### 5.2 Ternary Classification (Softmax Regession, Multinomial Logistic Regression)"
   ]
  },
  {
   "cell_type": "markdown",
   "metadata": {},
   "source": [
    "The *Softmax Score* is computed for each class:\n",
    "$$s_k(\\mathbf{x}) = \\theta_k^T \\mathbf{x}$$\n",
    "All $\\theta_k$ constitude a *Parameter Matrix $\\Theta$*.\n",
    "The probability of instance $\\mathbf{x}$ belongs to class $k$ could be estimated by:\n",
    "$$\\hat{p}_k = \\sigma(\\mathbf{s}(\\mathbf{x}))_k = \\frac{exp(s_k(\\mathbf{x}))}{\\sum_{j=1}^K exp(s_j(\\mathbf{x}))}$$\n",
    "Then the prediction could be given by:\n",
    "$$\\hat{y} = argmax_k \\sigma(\\mathbf{s}(\\mathbf{x}))_k = argmax_k s_k(\\mathbf{x}) = argmax_k(\\theta_k^T \\mathbf{x})$$"
   ]
  },
  {
   "cell_type": "code",
   "execution_count": 20,
   "metadata": {},
   "outputs": [
    {
     "name": "stdout",
     "output_type": "stream",
     "text": [
      "Error rate: 4.000000%\n"
     ]
    }
   ],
   "source": [
    "new_X = iris['data'][:,-2:]\n",
    "y = iris['target']\n",
    "logreg2 = LogisticRegression(multi_class = 'multinomial',solver = 'lbfgs', C=10)\n",
    "logreg2.fit(new_X,y)\n",
    "labels = logreg2.predict(new_X)\n",
    "\n",
    "errorcount = 0\n",
    "for i in range(new_X.shape[0]):\n",
    "    if labels[i] != y[i]:\n",
    "        errorcount += 1\n",
    "print('Error rate: %f%%'%(errorcount/new_X.shape[0]*100))"
   ]
  },
  {
   "cell_type": "code",
   "execution_count": 21,
   "metadata": {},
   "outputs": [
    {
     "name": "stdout",
     "output_type": "stream",
     "text": [
      "[2]\n",
      "[[6.38014896e-07 5.74929995e-02 9.42506362e-01]]\n"
     ]
    }
   ],
   "source": [
    "print(logreg2.predict([[5,2]]))\n",
    "print(logreg2.predict_proba([[5,2]]))"
   ]
  },
  {
   "cell_type": "code",
   "execution_count": null,
   "metadata": {},
   "outputs": [],
   "source": []
  }
 ],
 "metadata": {
  "kernelspec": {
   "display_name": "Python 3",
   "language": "python",
   "name": "python3"
  },
  "language_info": {
   "codemirror_mode": {
    "name": "ipython",
    "version": 3
   },
   "file_extension": ".py",
   "mimetype": "text/x-python",
   "name": "python",
   "nbconvert_exporter": "python",
   "pygments_lexer": "ipython3",
   "version": "3.7.4"
  }
 },
 "nbformat": 4,
 "nbformat_minor": 2
}
